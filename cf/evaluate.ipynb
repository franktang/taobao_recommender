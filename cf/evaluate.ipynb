{
 "cells": [
  {
   "cell_type": "code",
   "execution_count": 2,
   "metadata": {
    "collapsed": false
   },
   "outputs": [
    {
     "name": "stderr",
     "output_type": "stream",
     "text": [
      "[INFO] \u001b[1;32m1448788059 : INFO:     (initialize_globals_from_environment:282): Setting configuration variable GRAPHLAB_FILEIO_ALTERNATIVE_SSL_CERT_FILE to /Users/super/.graphlab/anaconda/lib/python2.7/site-packages/certifi/cacert.pem\n",
      "\u001b[0m\u001b[1;32m1448788059 : INFO:     (initialize_globals_from_environment:282): Setting configuration variable GRAPHLAB_FILEIO_ALTERNATIVE_SSL_CERT_DIR to \n",
      "\u001b[0mThis trial license of GraphLab Create is assigned to 1155068833@link.cuhk.edu.hk and will expire on December 20, 2015. Please contact trial@dato.com for licensing options or to request a free non-commercial license for personal or academic use.\n",
      "\n",
      "[INFO] Start server at: ipc:///tmp/graphlab_server-36586 - Server binary: /Users/super/.graphlab/anaconda/lib/python2.7/site-packages/graphlab/unity_server - Server log: /tmp/graphlab_server_1448788059.log\n",
      "[INFO] GraphLab Server Version: 1.7.1\n"
     ]
    },
    {
     "name": "stdout",
     "output_type": "stream",
     "text": [
      "PROGRESS: Finished parsing file /Users/super/Night Sky/python/clothes_recommender/user_history.csv\n",
      "PROGRESS: Parsing completed. Parsed 100 lines in 1.52696 secs.\n",
      "------------------------------------------------------\n",
      "Inferred types from first line of file as \n",
      "column_type_hints=[int,int,int]\n",
      "If parsing fails due to incorrect types, you can correct\n",
      "the inferred type list above and pass it to read_csv in\n",
      "the column_type_hints argument\n",
      "------------------------------------------------------\n",
      "PROGRESS: Read 2064937 lines. Lines per second: 797934\n",
      "PROGRESS: Read 12212249 lines. Lines per second: 1.57791e+06\n",
      "PROGRESS: Finished parsing file /Users/super/Night Sky/python/clothes_recommender/user_history.csv\n",
      "PROGRESS: Parsing completed. Parsed 13611038 lines in 8.04927 secs.\n"
     ]
    },
    {
     "data": {
      "text/html": [
       "<div style=\"max-height:1000px;max-width:1500px;overflow:auto;\"><table frame=\"box\" rules=\"cols\">\n",
       "    <tr>\n",
       "        <th style=\"padding-left: 1em; padding-right: 1em; text-align: center\">user_id</th>\n",
       "        <th style=\"padding-left: 1em; padding-right: 1em; text-align: center\">item_id</th>\n",
       "        <th style=\"padding-left: 1em; padding-right: 1em; text-align: center\">create_at</th>\n",
       "    </tr>\n",
       "    <tr>\n",
       "        <td style=\"padding-left: 1em; padding-right: 1em; text-align: center; vertical-align: top\">1915871</td>\n",
       "        <td style=\"padding-left: 1em; padding-right: 1em; text-align: center; vertical-align: top\">8</td>\n",
       "        <td style=\"padding-left: 1em; padding-right: 1em; text-align: center; vertical-align: top\">20150417</td>\n",
       "    </tr>\n",
       "    <tr>\n",
       "        <td style=\"padding-left: 1em; padding-right: 1em; text-align: center; vertical-align: top\">4371603</td>\n",
       "        <td style=\"padding-left: 1em; padding-right: 1em; text-align: center; vertical-align: top\">8</td>\n",
       "        <td style=\"padding-left: 1em; padding-right: 1em; text-align: center; vertical-align: top\">20150418</td>\n",
       "    </tr>\n",
       "    <tr>\n",
       "        <td style=\"padding-left: 1em; padding-right: 1em; text-align: center; vertical-align: top\">8034236</td>\n",
       "        <td style=\"padding-left: 1em; padding-right: 1em; text-align: center; vertical-align: top\">8</td>\n",
       "        <td style=\"padding-left: 1em; padding-right: 1em; text-align: center; vertical-align: top\">20150516</td>\n",
       "    </tr>\n",
       "    <tr>\n",
       "        <td style=\"padding-left: 1em; padding-right: 1em; text-align: center; vertical-align: top\">6135829</td>\n",
       "        <td style=\"padding-left: 1em; padding-right: 1em; text-align: center; vertical-align: top\">8</td>\n",
       "        <td style=\"padding-left: 1em; padding-right: 1em; text-align: center; vertical-align: top\">20150405</td>\n",
       "    </tr>\n",
       "    <tr>\n",
       "        <td style=\"padding-left: 1em; padding-right: 1em; text-align: center; vertical-align: top\">11650079</td>\n",
       "        <td style=\"padding-left: 1em; padding-right: 1em; text-align: center; vertical-align: top\">8</td>\n",
       "        <td style=\"padding-left: 1em; padding-right: 1em; text-align: center; vertical-align: top\">20150404</td>\n",
       "    </tr>\n",
       "    <tr>\n",
       "        <td style=\"padding-left: 1em; padding-right: 1em; text-align: center; vertical-align: top\">5324797</td>\n",
       "        <td style=\"padding-left: 1em; padding-right: 1em; text-align: center; vertical-align: top\">23</td>\n",
       "        <td style=\"padding-left: 1em; padding-right: 1em; text-align: center; vertical-align: top\">20150509</td>\n",
       "    </tr>\n",
       "    <tr>\n",
       "        <td style=\"padding-left: 1em; padding-right: 1em; text-align: center; vertical-align: top\">7969649</td>\n",
       "        <td style=\"padding-left: 1em; padding-right: 1em; text-align: center; vertical-align: top\">23</td>\n",
       "        <td style=\"padding-left: 1em; padding-right: 1em; text-align: center; vertical-align: top\">20150413</td>\n",
       "    </tr>\n",
       "    <tr>\n",
       "        <td style=\"padding-left: 1em; padding-right: 1em; text-align: center; vertical-align: top\">6403101</td>\n",
       "        <td style=\"padding-left: 1em; padding-right: 1em; text-align: center; vertical-align: top\">23</td>\n",
       "        <td style=\"padding-left: 1em; padding-right: 1em; text-align: center; vertical-align: top\">20150415</td>\n",
       "    </tr>\n",
       "    <tr>\n",
       "        <td style=\"padding-left: 1em; padding-right: 1em; text-align: center; vertical-align: top\">10786324</td>\n",
       "        <td style=\"padding-left: 1em; padding-right: 1em; text-align: center; vertical-align: top\">23</td>\n",
       "        <td style=\"padding-left: 1em; padding-right: 1em; text-align: center; vertical-align: top\">20150416</td>\n",
       "    </tr>\n",
       "    <tr>\n",
       "        <td style=\"padding-left: 1em; padding-right: 1em; text-align: center; vertical-align: top\">2921829</td>\n",
       "        <td style=\"padding-left: 1em; padding-right: 1em; text-align: center; vertical-align: top\">29</td>\n",
       "        <td style=\"padding-left: 1em; padding-right: 1em; text-align: center; vertical-align: top\">20150202</td>\n",
       "    </tr>\n",
       "</table>\n",
       "[10 rows x 3 columns]<br/>\n",
       "</div>"
      ],
      "text/plain": [
       "Columns:\n",
       "\tuser_id\tint\n",
       "\titem_id\tint\n",
       "\tcreate_at\tint\n",
       "\n",
       "Rows: 10\n",
       "\n",
       "Data:\n",
       "+----------+---------+-----------+\n",
       "| user_id  | item_id | create_at |\n",
       "+----------+---------+-----------+\n",
       "| 1915871  |    8    |  20150417 |\n",
       "| 4371603  |    8    |  20150418 |\n",
       "| 8034236  |    8    |  20150516 |\n",
       "| 6135829  |    8    |  20150405 |\n",
       "| 11650079 |    8    |  20150404 |\n",
       "| 5324797  |    23   |  20150509 |\n",
       "| 7969649  |    23   |  20150413 |\n",
       "| 6403101  |    23   |  20150415 |\n",
       "| 10786324 |    23   |  20150416 |\n",
       "| 2921829  |    29   |  20150202 |\n",
       "+----------+---------+-----------+\n",
       "[10 rows x 3 columns]"
      ]
     },
     "execution_count": 2,
     "metadata": {},
     "output_type": "execute_result"
    }
   ],
   "source": [
    "import graphlab\n",
    "import os\n",
    "\n",
    "if os.path.exists('user_history.csv'):\n",
    "    data = graphlab.SFrame('user_history.csv')\n",
    "else:\n",
    "    print \"file not found\"\n",
    "    \n",
    "data.head()"
   ]
  },
  {
   "cell_type": "code",
   "execution_count": 4,
   "metadata": {
    "collapsed": false
   },
   "outputs": [],
   "source": [
    "train, test = graphlab.recommender.util.random_split_by_user(data,\n",
    "                                                    user_id=\"user_id\",\n",
    "                                                    item_id=\"item_id\")"
   ]
  },
  {
   "cell_type": "code",
   "execution_count": 6,
   "metadata": {
    "collapsed": false
   },
   "outputs": [
    {
     "name": "stdout",
     "output_type": "stream",
     "text": [
      "PROGRESS: Recsys training: model = item_similarity\n",
      "PROGRESS: Warning: Column 'create_at' ignored.\n",
      "PROGRESS:     To use this column as the target, set target = \"create_at\" and use a method that allows the use of a target.\n",
      "PROGRESS: Preparing data set.\n",
      "PROGRESS:     Data has 13608461 observations with 1103699 users and 462005 items.\n",
      "PROGRESS:     Data prepared in: 17.7349s\n",
      "PROGRESS: Processing 13608461 observations:\n",
      "PROGRESS:    Observations   Seconds\n",
      "PROGRESS:         1000000   13.9937\n",
      "PROGRESS:         2000000    20.681\n",
      "PROGRESS:         3000000    42.144\n",
      "PROGRESS:         4000000   51.6759\n",
      "PROGRESS:         5000000   80.8239\n",
      "PROGRESS:         6000000   107.466\n",
      "PROGRESS:         7000000   114.549\n",
      "PROGRESS:         8000000   133.976\n",
      "PROGRESS:         9000000    141.78\n",
      "PROGRESS:        10000000   168.289\n",
      "PROGRESS:        11000000   175.948\n",
      "PROGRESS:        13608461   215.842\n",
      "PROGRESS: Computing similar items for 462005 items using 8 partitions:\n",
      "PROGRESS:  Partition     Items   Seconds\n",
      "PROGRESS:          0     57740   219.593\n",
      "PROGRESS:          1    115494   223.938\n",
      "PROGRESS:          2    173249   228.169\n",
      "PROGRESS:          3    230999   232.292\n",
      "PROGRESS:          4    288754   236.635\n",
      "PROGRESS:          5    346507   241.211\n",
      "PROGRESS:          6    404258   245.528\n",
      "PROGRESS:          7    462005   249.994\n",
      "PROGRESS: Finished getting similar items for 462005 items in 249.994s.\n",
      "PROGRESS: Finished training in 289.747s\n"
     ]
    }
   ],
   "source": [
    "model = graphlab.item_similarity_recommender.create(train,\n",
    "                                                    user_id=\"user_id\",\n",
    "                                                    item_id=\"item_id\")"
   ]
  },
  {
   "cell_type": "code",
   "execution_count": 7,
   "metadata": {
    "collapsed": false
   },
   "outputs": [
    {
     "name": "stdout",
     "output_type": "stream",
     "text": [
      "\n",
      "Precision and recall summary statistics by cutoff\n",
      "+--------+------------------+------------------+\n",
      "| cutoff |  mean_precision  |   mean_recall    |\n",
      "+--------+------------------+------------------+\n",
      "|   1    | 0.0170842824601  | 0.00514426727411 |\n",
      "|   2    | 0.0119589977221  | 0.00643779151752 |\n",
      "|   3    | 0.00987091875475 | 0.00769063889793 |\n",
      "|   4    | 0.00768792710706 | 0.0078804642586  |\n",
      "|   5    | 0.00728929384966 | 0.00945601475214 |\n",
      "|   6    | 0.00702353834472 | 0.0109176700293  |\n",
      "|   7    | 0.00667100553205 |  0.012693893047  |\n",
      "|   8    | 0.00612186788155 | 0.0133669102348  |\n",
      "|   9    | 0.00582131106049 | 0.0141348401029  |\n",
      "|   10   | 0.00558086560364 | 0.0149619363173  |\n",
      "+--------+------------------+------------------+\n",
      "[10 rows x 3 columns]\n"
     ]
    },
    {
     "name": "stderr",
     "output_type": "stream",
     "text": [
      "[WARNING] Model trained without a target. Skipping RMSE computation.\n"
     ]
    },
    {
     "name": "stdout",
     "output_type": "stream",
     "text": [
      "\n"
     ]
    }
   ],
   "source": [
    " eval = model.evaluate(test)"
   ]
  },
  {
   "cell_type": "code",
   "execution_count": 8,
   "metadata": {
    "collapsed": false
   },
   "outputs": [
    {
     "name": "stdout",
     "output_type": "stream",
     "text": [
      "{'precision_recall_overall': Columns:\n",
      "\tcutoff\tint\n",
      "\tprecision\tfloat\n",
      "\trecall\tfloat\n",
      "\n",
      "Rows: 18\n",
      "\n",
      "Data:\n",
      "+--------+------------------+------------------+\n",
      "| cutoff |    precision     |      recall      |\n",
      "+--------+------------------+------------------+\n",
      "|   1    | 0.0170842824601  | 0.00514426727411 |\n",
      "|   2    | 0.0119589977221  | 0.00643779151752 |\n",
      "|   3    | 0.00987091875475 | 0.00769063889793 |\n",
      "|   4    | 0.00768792710706 | 0.0078804642586  |\n",
      "|   5    | 0.00728929384966 | 0.00945601475214 |\n",
      "|   6    | 0.00702353834472 | 0.0109176700293  |\n",
      "|   7    | 0.00667100553205 |  0.012693893047  |\n",
      "|   8    | 0.00612186788155 | 0.0133669102348  |\n",
      "|   9    | 0.00582131106049 | 0.0141348401029  |\n",
      "|   10   | 0.00558086560364 | 0.0149619363173  |\n",
      "+--------+------------------+------------------+\n",
      "[18 rows x 3 columns]\n",
      "Note: Only the head of the SFrame is printed.\n",
      "You can use print_rows(num_rows=m, num_columns=n) to print more rows and columns., 'precision_recall_by_user': Columns:\n",
      "\tuser_id\tint\n",
      "\tcutoff\tint\n",
      "\tprecision\tfloat\n",
      "\trecall\tfloat\n",
      "\tcount\tint\n",
      "\n",
      "Rows: 15804\n",
      "\n",
      "Data:\n",
      "+---------+--------+-----------+--------+-------+\n",
      "| user_id | cutoff | precision | recall | count |\n",
      "+---------+--------+-----------+--------+-------+\n",
      "|   8763  |   1    |    0.0    |  0.0   |   2   |\n",
      "|   8763  |   2    |    0.0    |  0.0   |   2   |\n",
      "|   8763  |   3    |    0.0    |  0.0   |   2   |\n",
      "|   8763  |   4    |    0.0    |  0.0   |   2   |\n",
      "|   8763  |   5    |    0.0    |  0.0   |   2   |\n",
      "|   8763  |   6    |    0.0    |  0.0   |   2   |\n",
      "|   8763  |   7    |    0.0    |  0.0   |   2   |\n",
      "|   8763  |   8    |    0.0    |  0.0   |   2   |\n",
      "|   8763  |   9    |    0.0    |  0.0   |   2   |\n",
      "|   8763  |   10   |    0.0    |  0.0   |   2   |\n",
      "+---------+--------+-----------+--------+-------+\n",
      "[15804 rows x 5 columns]\n",
      "Note: Only the head of the SFrame is printed.\n",
      "You can use print_rows(num_rows=m, num_columns=n) to print more rows and columns.}\n"
     ]
    }
   ],
   "source": [
    "print(eval)"
   ]
  },
  {
   "cell_type": "code",
   "execution_count": 9,
   "metadata": {
    "collapsed": false
   },
   "outputs": [
    {
     "ename": "AttributeError",
     "evalue": "'dict' object has no attribute 'print_rows'",
     "output_type": "error",
     "traceback": [
      "\u001b[0;31m---------------------------------------------------------------------------\u001b[0m",
      "\u001b[0;31mAttributeError\u001b[0m                            Traceback (most recent call last)",
      "\u001b[0;32m<ipython-input-9-7b50564116c0>\u001b[0m in \u001b[0;36m<module>\u001b[0;34m()\u001b[0m\n\u001b[0;32m----> 1\u001b[0;31m \u001b[0meval\u001b[0m\u001b[0;34m.\u001b[0m\u001b[0mprint_rows\u001b[0m\u001b[0;34m(\u001b[0m\u001b[0mnum_rows\u001b[0m\u001b[0;34m=\u001b[0m\u001b[0;36m18\u001b[0m\u001b[0;34m,\u001b[0m \u001b[0mnum_columns\u001b[0m\u001b[0;34m=\u001b[0m\u001b[0;36m3\u001b[0m\u001b[0;34m)\u001b[0m\u001b[0;34m\u001b[0m\u001b[0m\n\u001b[0m",
      "\u001b[0;31mAttributeError\u001b[0m: 'dict' object has no attribute 'print_rows'"
     ]
    }
   ],
   "source": [
    "eval.print_rows(num_rows=18, num_columns=3)"
   ]
  },
  {
   "cell_type": "code",
   "execution_count": 10,
   "metadata": {
    "collapsed": false
   },
   "outputs": [
    {
     "ename": "AttributeError",
     "evalue": "'dict' object has no attribute 'save'",
     "output_type": "error",
     "traceback": [
      "\u001b[0;31m---------------------------------------------------------------------------\u001b[0m",
      "\u001b[0;31mAttributeError\u001b[0m                            Traceback (most recent call last)",
      "\u001b[0;32m<ipython-input-10-fc37bd844a9d>\u001b[0m in \u001b[0;36m<module>\u001b[0;34m()\u001b[0m\n\u001b[0;32m----> 1\u001b[0;31m \u001b[0meval\u001b[0m\u001b[0;34m.\u001b[0m\u001b[0msave\u001b[0m\u001b[0;34m(\u001b[0m\u001b[0;34m'evaluate_result.csv'\u001b[0m\u001b[0;34m,\u001b[0m \u001b[0mformat\u001b[0m\u001b[0;34m=\u001b[0m\u001b[0;34m'csv'\u001b[0m\u001b[0;34m)\u001b[0m\u001b[0;34m\u001b[0m\u001b[0m\n\u001b[0m",
      "\u001b[0;31mAttributeError\u001b[0m: 'dict' object has no attribute 'save'"
     ]
    }
   ],
   "source": [
    "eval.save('evaluate_result.csv', format='csv')"
   ]
  },
  {
   "cell_type": "code",
   "execution_count": 11,
   "metadata": {
    "collapsed": false
   },
   "outputs": [
    {
     "name": "stdout",
     "output_type": "stream",
     "text": [
      "Canvas is accessible via web browser at the URL: http://localhost:64879/index.html\n",
      "Opening Canvas in default web browser.\n"
     ]
    }
   ],
   "source": [
    "model.show()"
   ]
  },
  {
   "cell_type": "code",
   "execution_count": 12,
   "metadata": {
    "collapsed": false
   },
   "outputs": [
    {
     "name": "stdout",
     "output_type": "stream",
     "text": [
      "Class                           : ItemSimilarityRecommender\n",
      "\n",
      "Schema\n",
      "------\n",
      "User ID                         : user_id\n",
      "Item ID                         : item_id\n",
      "Target                          : None\n",
      "Additional observation features : 0\n",
      "Number of user side features    : 0\n",
      "Number of item side features    : 0\n",
      "\n",
      "Statistics\n",
      "----------\n",
      "Number of observations          : 13608461\n",
      "Number of users                 : 1103699\n",
      "Number of items                 : 462005\n",
      "\n",
      "Training summary\n",
      "----------------\n",
      "Training time                   : 289.7508\n",
      "\n",
      "Model Parameters\n",
      "----------------\n",
      "Model class                     : ItemSimilarityRecommender\n",
      "only_top_k                      : 100\n",
      "threshold                       : 0.001\n",
      "similarity_type                 : jaccard\n",
      "training_method                 : auto\n",
      "\n"
     ]
    }
   ],
   "source": [
    "model.summary()"
   ]
  },
  {
   "cell_type": "code",
   "execution_count": 13,
   "metadata": {
    "collapsed": false
   },
   "outputs": [
    {
     "name": "stdout",
     "output_type": "stream",
     "text": [
      "PROGRESS: Recsys training: model = item_similarity\n",
      "PROGRESS: Warning: Column 'create_at' ignored.\n",
      "PROGRESS:     To use this column as the target, set target = \"create_at\" and use a method that allows the use of a target.\n",
      "PROGRESS: Preparing data set.\n",
      "PROGRESS:     Data has 13611038 observations with 1103702 users and 462008 items.\n",
      "PROGRESS:     Data prepared in: 19.1271s\n",
      "PROGRESS: Processing 13611038 observations:\n",
      "PROGRESS:    Observations   Seconds\n",
      "PROGRESS:         1000000   13.0615\n",
      "PROGRESS:         2000000   19.4408\n",
      "PROGRESS:         3000000   39.7133\n",
      "PROGRESS:         4000000   50.1864\n",
      "PROGRESS:         5000000   79.5702\n",
      "PROGRESS:         6000000   87.9554\n",
      "PROGRESS:         7000000   113.785\n",
      "PROGRESS:         8000000   133.417\n",
      "PROGRESS:         9000000   141.292\n",
      "PROGRESS:        10000000   170.042\n",
      "PROGRESS:        11000000   177.557\n",
      "PROGRESS:        12000000   203.685\n",
      "PROGRESS:        13611038   218.837\n",
      "PROGRESS: Computing similar items for 462008 items using 8 partitions:\n",
      "PROGRESS:  Partition     Items   Seconds\n",
      "PROGRESS:          0     57741   222.695\n",
      "PROGRESS:          1    115496   226.899\n",
      "PROGRESS:          2    173251   230.992\n",
      "PROGRESS:          3    231002   235.292\n",
      "PROGRESS:          4    288757   239.555\n",
      "PROGRESS:          5    346510   243.984\n",
      "PROGRESS:          6    404261   248.319\n",
      "PROGRESS:          7    462008    252.64\n",
      "PROGRESS: Finished getting similar items for 462008 items in 252.64s.\n",
      "PROGRESS: Finished training in 290.329s\n"
     ]
    }
   ],
   "source": [
    "true_model = graphlab.item_similarity_recommender.create(data,\n",
    "                                                    user_id=\"user_id\",\n",
    "                                                    item_id=\"item_id\")"
   ]
  },
  {
   "cell_type": "code",
   "execution_count": 14,
   "metadata": {
    "collapsed": false
   },
   "outputs": [
    {
     "name": "stdout",
     "output_type": "stream",
     "text": [
      "Canvas is updated and available in a tab in the default browser.\n"
     ]
    }
   ],
   "source": [
    "true_model.show()"
   ]
  },
  {
   "cell_type": "code",
   "execution_count": null,
   "metadata": {
    "collapsed": true
   },
   "outputs": [],
   "source": []
  }
 ],
 "metadata": {
  "kernelspec": {
   "display_name": "Python 2",
   "language": "python",
   "name": "python2"
  },
  "language_info": {
   "codemirror_mode": {
    "name": "ipython",
    "version": 2
   },
   "file_extension": ".py",
   "mimetype": "text/x-python",
   "name": "python",
   "nbconvert_exporter": "python",
   "pygments_lexer": "ipython2",
   "version": "2.7.10"
  }
 },
 "nbformat": 4,
 "nbformat_minor": 0
}
